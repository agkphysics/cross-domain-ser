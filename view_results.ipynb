{
 "cells": [
  {
   "cell_type": "code",
   "execution_count": null,
   "metadata": {},
   "outputs": [],
   "source": [
    "import json\n",
    "from pathlib import Path\n",
    "\n",
    "import numpy as np\n",
    "import pandas as pd\n",
    "import seaborn as sns\n",
    "import pingouin\n",
    "import matplotlib.pyplot as plt\n",
    "from scipy.stats import rankdata, levene, shapiro\n",
    "from scipy.cluster.hierarchy import linkage, dendrogram\n",
    "\n",
    "%matplotlib inline"
   ]
  },
  {
   "cell_type": "code",
   "execution_count": null,
   "metadata": {},
   "outputs": [],
   "source": [
    "df_logo = []\n",
    "for csv in Path(\"./results/logo\").glob(\"*/*.csv\"):\n",
    "    df = pd.read_csv(csv).rename(columns={\"fold\": \"tgt\"})\n",
    "    if \"__\" in csv.stem:\n",
    "        exp, tgt = csv.stem.split(\"__\")\n",
    "        df[\"exp\"] = exp\n",
    "        df[\"tgt\"] = tgt\n",
    "    else:\n",
    "        df[\"exp\"] = csv.stem\n",
    "    df[\"features\"] = csv.parts[-2]\n",
    "    df_logo.append(df)\n",
    "df_logo = pd.concat(df_logo).set_index([\"exp\", \"features\", \"tgt\", \"rep\"]).sort_index()\n",
    "df_logo"
   ]
  },
  {
   "cell_type": "code",
   "execution_count": null,
   "metadata": {},
   "outputs": [],
   "source": [
    "df_pairwise = []\n",
    "for csv in Path(\"./results/pairwise\").glob(\"*/*/*.csv\"):\n",
    "    df = pd.read_csv(csv)\n",
    "    src, tgt = csv.stem.split(\"__\")\n",
    "    df[\"src\"] = src\n",
    "    df[\"tgt\"] = tgt\n",
    "    df[\"exp\"] = csv.parts[-2]\n",
    "    df[\"features\"] = csv.parts[-3]\n",
    "    df_pairwise.append(df)\n",
    "df_pairwise = pd.concat(df_pairwise).set_index([\"exp\", \"features\", \"src\", \"tgt\", \"rep\", \"fold\"]).sort_index()\n",
    "df_pairwise"
   ]
  },
  {
   "cell_type": "code",
   "execution_count": null,
   "metadata": {},
   "outputs": [],
   "source": [
    "df_within = []\n",
    "for csv in Path(\"./results/within\").glob(\"*/*/*.csv\"):\n",
    "    df = pd.read_csv(csv)\n",
    "    src = csv.stem\n",
    "    df[\"src\"] = src\n",
    "    df[\"tgt\"] = src\n",
    "    df[\"exp\"] = csv.parts[-2]\n",
    "    df[\"features\"] = csv.parts[-3]\n",
    "    df_within.append(df)\n",
    "df_within = pd.concat(df_within).set_index([\"exp\", \"features\", \"src\", \"tgt\", \"rep\", \"fold\"]).sort_index()\n",
    "df_within"
   ]
  },
  {
   "cell_type": "code",
   "execution_count": null,
   "metadata": {},
   "outputs": [],
   "source": [
    "print((df_within.groupby([\"exp\", \"features\", \"tgt\"])[\"uar\"].mean().unstack(\"features\") * 100).to_string(float_format=\"{:.1f}\".format))"
   ]
  },
  {
   "cell_type": "code",
   "execution_count": null,
   "metadata": {},
   "outputs": [],
   "source": [
    "print((df_logo.groupby([\"exp\", \"features\", \"tgt\"])[\"uar\"].mean() * 100).unstack(\"features\").to_string(float_format=\"{:.1f}\".format))"
   ]
  },
  {
   "cell_type": "code",
   "execution_count": null,
   "metadata": {},
   "outputs": [],
   "source": [
    "diff = (\n",
    "    df_within.rename(\n",
    "        index={\n",
    "            \"ESD_en_train\": \"ESD_en\",\n",
    "            \"ESD_zh_train\": \"ESD_zh\",\n",
    "            \"MSP-PODCAST_train\": \"MSP-PODCAST\",\n",
    "            \"CMU-MOSEI_train\": \"CMU-MOSEI\",\n",
    "        }\n",
    "    )\n",
    "    .groupby([\"exp\", \"features\", \"tgt\"])[[\"uar\", \"war\", \"macrof1\"]]\n",
    "    .mean(numeric_only=True)\n",
    "    - df_logo.groupby([\"exp\", \"features\", \"tgt\"])[[\"uar\", \"war\", \"macrof1\"]].mean()\n",
    ")\n",
    "diff = diff.drop(\n",
    "    index=[\n",
    "        \"esd_cross_lang_train\",\n",
    "        \"esd_cross_lang_test\",\n",
    "        \"emofilm_cross_lang_5class\",\n",
    "        \"venec_cross_country_18class\",\n",
    "    ],\n",
    "    level=\"exp\",\n",
    ").groupby([\"exp\", \"features\"]).mean().unstack(\"features\")\n",
    "diff = diff * 100\n",
    "\n",
    "print(diff.to_string(float_format=\"{:.1f}\".format))\n"
   ]
  },
  {
   "cell_type": "code",
   "execution_count": null,
   "metadata": {},
   "outputs": [],
   "source": [
    "for exp in df_logo.drop(\n",
    "    index=[\n",
    "        \"cross_group_all_3class\",\n",
    "        \"cross_lang_explicit_3class\",\n",
    "        \"esd_cross_lang_train\",\n",
    "        \"esd_cross_lang_test\",\n",
    "        \"emofilm_cross_lang_5class\",\n",
    "        \"venec_cross_country_18class\",\n",
    "    ],\n",
    "    level=\"exp\",\n",
    ").index.unique(\"exp\"):\n",
    "    sub_df = df_logo.loc[exp, \"wav2vec2_audeering_ft_c_mean\"].dropna(axis=1)\n",
    "    classes = [\"uar\", \"war\", \"macrof1\"] + [\n",
    "        x for x in sub_df.columns if x.endswith(\"_f1\")\n",
    "    ]\n",
    "    mean_within = df_within.loc[exp, \"wav2vec2_audeering_ft_c_mean\"].groupby(\"tgt\")[classes].mean()\n",
    "    mean_logo = sub_df.groupby(\"tgt\")[classes].mean()\n",
    "\n",
    "    if exp in df_pairwise.index.unique(\"exp\"):\n",
    "        mean_pair = df_pairwise.loc[exp, \"wav2vec2_audeering_ft_c_mean\"].groupby(\"tgt\")[classes].mean()\n",
    "        df = pd.concat([mean_within, mean_pair, mean_logo], keys=[\"Within\", \"Pairwise\", \"LOGO\"])\n",
    "    else:\n",
    "        df = pd.concat([mean_within, mean_logo], keys=[\"Within\", \"LOGO\"])\n",
    "\n",
    "    fig, ax = plt.subplots(figsize=(len(classes) / 1.8, len(df) / 4))\n",
    "    sns.heatmap(df * 100, cmap=\"Blues\", vmin=0, annot=True, fmt=\".1f\", vmax=100, ax=ax)\n",
    "    ax.set(ylabel=None)\n",
    "    plt.show()\n"
   ]
  },
  {
   "attachments": {},
   "cell_type": "markdown",
   "metadata": {},
   "source": [
    "## All groups, pairwise"
   ]
  },
  {
   "cell_type": "code",
   "execution_count": null,
   "metadata": {},
   "outputs": [],
   "source": [
    "mean_df = df_pairwise.loc[\"cross_group_all_3class\", \"wav2vec_c_mean\"].groupby([\"src\", \"tgt\"])[\"uar\"].mean().unstack(\"tgt\")\n",
    "fig, ax = plt.subplots(figsize=(len(mean_df) / 3, len(mean_df) / 4))\n",
    "sns.heatmap(mean_df * 100, cmap=\"Blues\", vmin=33, annot=True, fmt=\".0f\", vmax=100, cbar_kws={\"aspect\": 50, \"pad\": 0.02}, ax=ax)\n",
    "ax.set(xlabel=\"Test/Target\", ylabel=\"Train/Source\")\n",
    "ax.set_xticklabels(mean_df.columns, rotation=45, rotation_mode=\"anchor\", ha=\"right\")\n",
    "plt.show()\n",
    "\n",
    "mean_df = df_pairwise.loc[\"cross_group_all_3class\", \"wav2vec2_audeering_ft_c_mean\"].groupby([\"src\", \"tgt\"])[\"uar\"].mean().unstack(\"tgt\")\n",
    "fig, ax = plt.subplots(figsize=(len(mean_df) / 3, len(mean_df) / 4))\n",
    "sns.heatmap(mean_df * 100, cmap=\"Blues\", vmin=33, annot=True, fmt=\".0f\", vmax=100, cbar_kws={\"aspect\": 50, \"pad\": 0.02}, ax=ax)\n",
    "ax.set(xlabel=\"Test/Target\", ylabel=\"Train/Source\")\n",
    "ax.set_xticklabels(mean_df.columns, rotation=45, rotation_mode=\"anchor\", ha=\"right\")\n",
    "plt.show()"
   ]
  },
  {
   "cell_type": "code",
   "execution_count": null,
   "metadata": {},
   "outputs": [],
   "source": [
    "(df_pairwise * 100).loc[\"cross_group_all_3class\"][[\"anger_f1\", \"happiness_f1\", \"sadness_f1\"]].groupby(\"features\").agg([\"mean\", \"std\"])"
   ]
  },
  {
   "cell_type": "code",
   "execution_count": null,
   "metadata": {},
   "outputs": [],
   "source": [
    "logo_mean = df_logo.loc[\"cross_group_all_3class\", \"wav2vec2_audeering_ft_c_mean\"].groupby(\"tgt\")[\"uar\"].mean()\n",
    "within_mean = df_within.loc[\"cross_group_all_3class\", \"wav2vec2_audeering_ft_c_mean\"].rename(\n",
    "        index={\"ESD_en_train\": \"ESD_en\", \"ESD_zh_train\": \"ESD_zh\", \"MSP-PODCAST_train\": \"MSP-PODCAST\", \"CMU-MOSEI_train\": \"CMU-MOSEI\"}\n",
    "    ).groupby(\"tgt\")[\"uar\"].mean()\n",
    "src_mean = df_pairwise.loc[\"cross_group_all_3class\", \"wav2vec2_audeering_ft_c_mean\"].groupby(\"src\")[\"uar\"].mean()\n",
    "tgt_mean = df_pairwise.loc[\"cross_group_all_3class\", \"wav2vec2_audeering_ft_c_mean\"].groupby(\"tgt\")[\"uar\"].mean()\n",
    "print((pd.concat([within_mean, logo_mean, src_mean, tgt_mean], axis=1, keys=[\"within\", \"logo\", \"src\", \"tgt\"]) * 100).style.format(precision=1).to_latex())"
   ]
  },
  {
   "cell_type": "code",
   "execution_count": null,
   "metadata": {},
   "outputs": [],
   "source": [
    "acted = [\"AESDD\", \"ASED\", \"CaFE\", \"CREMA-D\", \"EMO-DB\", \"EmoFilm_en\", \"EmoFilm_es\", \"EmoFilm_it\", \"EMOVO\", \"eNTERFACE\", \"ESD_en\", \"ESD_zh\", \"JL\", \"MESD\", \"MESS\", \"Portuguese\", \"RAVDESS\", \"SAVEE\", \"SUBESCO\", \"TESS\", \"URDU\", \"VENEC_au\", \"VENEC_in\", \"VENEC_ke\", \"VENEC_sg\", \"VENEC_us\"]\n",
    "induced = [\"DEMoS\", \"EESC\", \"IEMOCAP\", \"MELD\", \"MSP-IMPROV\", \"ShEMO\"]\n",
    "natural = [\"CMU-MOSEI\", \"MSP-PODCAST\", \"SmartKom\"]\n",
    "\n",
    "print(src_mean.loc[acted].agg([\"mean\", \"sem\"]))\n",
    "print(src_mean.loc[induced].agg([\"mean\", \"sem\"]))\n",
    "print(src_mean.loc[natural].agg([\"mean\", \"sem\"]))\n",
    "\n",
    "print(pingouin.ttest(src_mean.loc[acted], src_mean.loc[induced], alternative=\"greater\").to_string())\n",
    "print(pingouin.ttest(src_mean.loc[induced], src_mean.loc[natural], alternative=\"greater\").to_string())\n",
    "print(pingouin.ttest(src_mean.loc[acted], src_mean.loc[natural], alternative=\"greater\").to_string())"
   ]
  },
  {
   "attachments": {},
   "cell_type": "markdown",
   "metadata": {},
   "source": [
    "### Pairwise - within differences"
   ]
  },
  {
   "cell_type": "code",
   "execution_count": null,
   "metadata": {},
   "outputs": [],
   "source": [
    "# all_within = df_within.loc[\"cross_group_all_3class\", \"wav2vec2_audeering_ft_c_mean\"].rename(\n",
    "#         index={\"ESD_en_train\": \"ESD_en\", \"ESD_zh_train\": \"ESD_zh\", \"MSP-PODCAST_train\": \"MSP-PODCAST\", \"CMU-MOSEI_train\": \"CMU-MOSEI\"}\n",
    "#     ).groupby(\"tgt\")[[\"uar\", \"war\", \"macrof1\", \"anger_f1\", \"happiness_f1\", \"sadness_f1\"]].mean()\n",
    "# all_pair = df_pairwise.loc[\"cross_group_all_3class\", \"wav2vec2_audeering_ft_c_mean\"].groupby(\"tgt\")[[\"uar\", \"war\", \"macrof1\", \"anger_f1\", \"happiness_f1\", \"sadness_f1\"]].mean()\n",
    "# all_logo = df_logo.loc[\"cross_group_all_3class\", \"wav2vec2_audeering_ft_c_mean\"].groupby(\"tgt\")[[\"uar\", \"war\", \"macrof1\", \"anger_f1\", \"happiness_f1\", \"sadness_f1\"]].mean()\n",
    "\n",
    "diff = tgt_mean - within_mean\n",
    "# print((diff * 100).to_string(float_format=\"{:.1f}\".format))\n",
    "# print((diff * 100).mean().to_string(float_format=\"{:.1f}\".format))\n",
    "\n",
    "print(pingouin.correlation.corr(tgt_mean, within_mean))\n",
    "\n",
    "print(diff.loc[acted].agg([\"mean\", \"sem\"]))\n",
    "print(diff.loc[induced].agg([\"mean\", \"sem\"]))\n",
    "print(diff.loc[natural].agg([\"mean\", \"sem\"]))\n",
    "\n",
    "print(pingouin.ttest(diff.loc[acted], diff.loc[induced], alternative=\"two-sided\").to_string())\n",
    "print(pingouin.ttest(diff.loc[induced], diff.loc[natural], alternative=\"two-sided\").to_string())\n",
    "print(pingouin.ttest(diff.loc[acted], diff.loc[natural], alternative=\"two-sided\").to_string())"
   ]
  },
  {
   "attachments": {},
   "cell_type": "markdown",
   "metadata": {},
   "source": [
    "### UAR correlation and simiarity"
   ]
  },
  {
   "cell_type": "code",
   "execution_count": null,
   "metadata": {},
   "outputs": [],
   "source": [
    "# mean_df = df_pairwise.loc[\"cross_group_all_3class\", \"wav2vec_c_mean\"].groupby([\"src\", \"tgt\"])[\"uar\"].mean().unstack(\"tgt\")\n",
    "pair_table = df_pairwise.loc[\"cross_group_all_3class\", \"wav2vec2_audeering_ft_c_mean\"].groupby([\"src\", \"tgt\"])[\"uar\"].mean().unstack(\"tgt\")\n",
    "mean_train_test = (pair_table + pair_table.T) / 2\n",
    "avg_corr = (pair_table.corr(method=\"pearson\") + pair_table.T.corr(method=\"pearson\")) / 2\n",
    "\n",
    "# fig, ax = plt.subplots(figsize=(5, 4))\n",
    "# sns.scatterplot(x=pair_table[\"EMO-DB\"], y=pair_table[\"MESS\"], ax=ax)\n",
    "# plt.show()\n",
    "\n",
    "sim = pair_table.copy()\n",
    "# sim = avg_corr\n",
    "# sim = mean_train_test.corr(method=\"pearson\")\n",
    "sim.iloc[:, :] = np.interp((pair_table.T + pair_table) / 2, [0.33, 1], [0, 1])\n",
    "\n",
    "print(pingouin.corr(sim.to_numpy()[np.triu_indices_from(sim, 1)], pair_table.to_numpy()[np.triu_indices_from(sim, 1)]))\n",
    "\n",
    "# print(sim.apply(lambda x: list(x.sort_values().items())[-2]).T.to_string())\n",
    "\n",
    "dist = 1 - sim\n",
    "# dist = np.arccos(sim) / np.pi\n",
    "\n",
    "plt.figure(figsize=(10, 5))\n",
    "Z = linkage(dist.to_numpy()[np.triu_indices_from(dist, 1)], \"average\")\n",
    "res = dendrogram(Z, labels=list(sim.columns), leaf_rotation=90, color_threshold=0, count_sort=True)\n",
    "\n",
    "fig, ax = plt.subplots(figsize=(len(pair_table) / 2.5, len(pair_table) / 4))\n",
    "sns.heatmap(dist.loc[res[\"ivl\"], res[\"ivl\"]], cmap=\"Greens\", vmin=0, annot=True, fmt=\".1f\", vmax=2, cbar_kws={\"aspect\": 50, \"pad\": 0.02}, ax=ax)\n",
    "ax.set(xlabel=None, ylabel=None)\n",
    "\n",
    "# fig, ax = plt.subplots(figsize=(len(mean_df) / 2.5, len(mean_df) / 4))\n",
    "# sns.heatmap(sim, cmap=\"coolwarm\", vmin=-1, annot=True, fmt=\".1f\", vmax=1, cbar_kws={\"aspect\": 50, \"pad\": 0.02}, ax=ax)\n",
    "# ax.set(xlabel=None, ylabel=None)\n",
    "\n",
    "# fig, ax = plt.subplots(figsize=(len(mean_df) / 2.5, len(mean_df) / 4))\n",
    "# sns.heatmap(mean_df.T.corr(method=\"spearman\"), cmap=\"coolwarm\", vmin=-1, annot=True, fmt=\".1f\", vmax=1, ax=ax)\n",
    "# ax.set(xlabel=None, ylabel=None, title=\"Correlation between UAR when used as source dataset\")\n",
    "\n",
    "# fig, ax = plt.subplots(figsize=(len(mean_df) / 2.5, len(mean_df) / 4))\n",
    "# sns.heatmap(mean_df.corr(method=\"spearman\"), cmap=\"coolwarm\", vmin=-1, annot=True, fmt=\".1f\", vmax=1, ax=ax)\n",
    "# ax.set(xlabel=None, ylabel=None, title=\"Correlation between UAR when used as target dataset\")\n",
    "\n",
    "plt.show()"
   ]
  },
  {
   "attachments": {},
   "cell_type": "markdown",
   "metadata": {},
   "source": [
    "### Difference between pairwise source and target"
   ]
  },
  {
   "cell_type": "code",
   "execution_count": null,
   "metadata": {},
   "outputs": [],
   "source": [
    "mean_df = df_pairwise.loc[\"cross_group_all_3class\", \"wav2vec2_audeering_ft_c_mean\"].groupby([\"src\", \"tgt\"])[\"uar\"].mean().unstack(\"tgt\")\n",
    "\n",
    "fig, ax = plt.subplots(figsize=(len(mean_df) / 2.5, len(mean_df) / 4))\n",
    "sns.heatmap(1 - (mean_df - mean_df.T).abs(), cmap=\"Blues\", vmin=0.6, vmax=1, annot=True, fmt=\".1f\", ax=ax)\n",
    "ax.set(xlabel=None, ylabel=None)\n",
    "\n",
    "plt.show()"
   ]
  },
  {
   "cell_type": "code",
   "execution_count": null,
   "metadata": {},
   "outputs": [],
   "source": []
  }
 ],
 "metadata": {
  "kernelspec": {
   "display_name": "Python 3.9.13 ('.venv-py39': venv)",
   "language": "python",
   "name": "python3"
  },
  "language_info": {
   "codemirror_mode": {
    "name": "ipython",
    "version": 3
   },
   "file_extension": ".py",
   "mimetype": "text/x-python",
   "name": "python",
   "nbconvert_exporter": "python",
   "pygments_lexer": "ipython3",
   "version": "3.9.13"
  },
  "orig_nbformat": 4,
  "vscode": {
   "interpreter": {
    "hash": "00d8e91c14c17777383c9b82275478c54eb0c659f561165d1fa94515e69fa14f"
   }
  }
 },
 "nbformat": 4,
 "nbformat_minor": 2
}
